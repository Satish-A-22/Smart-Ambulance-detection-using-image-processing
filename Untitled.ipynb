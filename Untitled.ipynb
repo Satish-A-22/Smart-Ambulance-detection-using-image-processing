{
 "cells": [
  {
   "cell_type": "code",
   "execution_count": 7,
   "id": "ac865117-6742-4a7f-9930-e8f6cd006b8e",
   "metadata": {},
   "outputs": [
    {
     "name": "stdout",
     "output_type": "stream",
     "text": [
      "started\n"
     ]
    }
   ],
   "source": [
    "import cv2\n",
    "import matplotlib.pyplot as plt\n",
    "import cvlib as cv\n",
    "import urllib.request\n",
    "import numpy as np\n",
    "from cvlib.object_detection import draw_bbox\n",
    "import concurrent.futures\n",
    "\n",
    "url = 'http://192.168.1.33/cam-hi.jpg'\n",
    "im = None\n",
    "\n",
    "\n",
    "def run1():\n",
    "    cv2.namedWindow(\"live transmission\", cv2.WINDOW_AUTOSIZE)\n",
    "    while True:\n",
    "        img_resp = urllib.request.urlopen(url)\n",
    "        imgnp = np.array(bytearray(img_resp.read()), dtype=np.uint8)\n",
    "        im = cv2.imdecode(imgnp, -1)\n",
    "\n",
    "        cv2.imshow('live transmission', im)\n",
    "        key = cv2.waitKey(5)\n",
    "        if key == ord('q'):\n",
    "            break\n",
    "\n",
    "    cv2.destroyAllWindows()\n",
    "\n",
    "\n",
    "def run2():\n",
    "    cv2.namedWindow(\"detection\", cv2.WINDOW_AUTOSIZE)\n",
    "    while True:\n",
    "        img_resp = urllib.request.urlopen(url)\n",
    "        imgnp = np.array(bytearray(img_resp.read()), dtype=np.uint8)\n",
    "        im = cv2.imdecode(imgnp, -1)\n",
    "\n",
    "        bbox, label, conf = cv.detect_common_objects(im)\n",
    "        im = draw_bbox(im, bbox, label, conf)\n",
    "\n",
    "        cv2.imshow('detection', im)\n",
    "        key = cv2.waitKey(5)\n",
    "        if key == ord('q'):\n",
    "            break\n",
    "\n",
    "    cv2.destroyAllWindows()\n",
    "\n",
    "\n",
    "if __name__ == '__main__':\n",
    "    print(\"started\")\n",
    "    with concurrent.futures.ProcessPoolExecutor() as executer:\n",
    "        f1 = executer.submit(run1)\n",
    "        f2 = executer.submit(run2)"
   ]
  },
  {
   "cell_type": "code",
   "execution_count": 4,
   "id": "9c3ac128-6e75-4a31-990f-c5caea0d6b12",
   "metadata": {},
   "outputs": [
    {
     "name": "stdout",
     "output_type": "stream",
     "text": [
      "Requirement already satisfied: cvlib in c:\\users\\hp\\miniconda3\\lib\\site-packages (0.2.7)\n",
      "Requirement already satisfied: numpy in c:\\users\\hp\\miniconda3\\lib\\site-packages (from cvlib) (1.26.2)\n",
      "Requirement already satisfied: imutils in c:\\users\\hp\\miniconda3\\lib\\site-packages (from cvlib) (0.5.4)\n",
      "Requirement already satisfied: requests in c:\\users\\hp\\miniconda3\\lib\\site-packages (from cvlib) (2.31.0)\n",
      "Requirement already satisfied: progressbar in c:\\users\\hp\\miniconda3\\lib\\site-packages (from cvlib) (2.5)\n",
      "Requirement already satisfied: pillow in c:\\users\\hp\\miniconda3\\lib\\site-packages (from cvlib) (10.1.0)\n",
      "Requirement already satisfied: imageio in c:\\users\\hp\\miniconda3\\lib\\site-packages (from cvlib) (2.34.1)\n",
      "Requirement already satisfied: idna<4,>=2.5 in c:\\users\\hp\\miniconda3\\lib\\site-packages (from requests->cvlib) (3.4)\n",
      "Requirement already satisfied: charset-normalizer<4,>=2 in c:\\users\\hp\\miniconda3\\lib\\site-packages (from requests->cvlib) (2.0.4)\n",
      "Requirement already satisfied: certifi>=2017.4.17 in c:\\users\\hp\\miniconda3\\lib\\site-packages (from requests->cvlib) (2022.12.7)\n",
      "Requirement already satisfied: urllib3<3,>=1.21.1 in c:\\users\\hp\\miniconda3\\lib\\site-packages (from requests->cvlib) (1.26.15)\n"
     ]
    }
   ],
   "source": [
    "!pip install cvlib\n"
   ]
  },
  {
   "cell_type": "code",
   "execution_count": null,
   "id": "1a7c05e3-05d1-46fe-9952-d3c31d1bd2de",
   "metadata": {},
   "outputs": [],
   "source": []
  }
 ],
 "metadata": {
  "kernelspec": {
   "display_name": "Python 3 (ipykernel)",
   "language": "python",
   "name": "python3"
  },
  "language_info": {
   "codemirror_mode": {
    "name": "ipython",
    "version": 3
   },
   "file_extension": ".py",
   "mimetype": "text/x-python",
   "name": "python",
   "nbconvert_exporter": "python",
   "pygments_lexer": "ipython3",
   "version": "3.10.10"
  }
 },
 "nbformat": 4,
 "nbformat_minor": 5
}
